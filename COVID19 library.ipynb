{
  "nbformat": 4,
  "nbformat_minor": 0,
  "metadata": {
    "colab": {
      "name": "Untitled1.ipynb",
      "provenance": [],
      "authorship_tag": "ABX9TyMhcp/UPvWT1z/RcbyE2aAg",
      "include_colab_link": true
    },
    "kernelspec": {
      "name": "python3",
      "display_name": "Python 3"
    }
  },
  "cells": [
    {
      "cell_type": "markdown",
      "metadata": {
        "id": "view-in-github",
        "colab_type": "text"
      },
      "source": [
        "<a href=\"https://colab.research.google.com/github/rekha364/Projects/blob/master/COVID19%20library.ipynb\" target=\"_parent\"><img src=\"https://colab.research.google.com/assets/colab-badge.svg\" alt=\"Open In Colab\"/></a>"
      ]
    },
    {
      "cell_type": "code",
      "metadata": {
        "id": "Cs3db1Otrsu4",
        "colab_type": "code",
        "colab": {
          "base_uri": "https://localhost:8080/",
          "height": 195
        },
        "outputId": "44535b64-286c-4bee-f9cb-175fd31fc5a1"
      },
      "source": [
        "!pip install Covid19py"
      ],
      "execution_count": 5,
      "outputs": [
        {
          "output_type": "stream",
          "text": [
            "Collecting Covid19py\n",
            "  Downloading https://files.pythonhosted.org/packages/d2/e5/d8129426769328cc19d939c7ccb9cb774a79de92cb093bec65f3dc81eb75/COVID19Py-0.3.0.tar.gz\n",
            "Building wheels for collected packages: Covid19py\n",
            "  Building wheel for Covid19py (setup.py) ... \u001b[?25l\u001b[?25hdone\n",
            "  Created wheel for Covid19py: filename=COVID19Py-0.3.0-cp36-none-any.whl size=4719 sha256=882b9cf14c6fafc48990f6f5c142c28313b2dd79797aa74ccdd7b30868c4203f\n",
            "  Stored in directory: /root/.cache/pip/wheels/23/78/50/78aaca989f422d636b01b9c55cd5e327fef838e973690f886c\n",
            "Successfully built Covid19py\n",
            "Installing collected packages: Covid19py\n",
            "Successfully installed Covid19py-0.3.0\n"
          ],
          "name": "stdout"
        }
      ]
    },
    {
      "cell_type": "code",
      "metadata": {
        "id": "2F4MsZJRr7tT",
        "colab_type": "code",
        "colab": {}
      },
      "source": [
        "import COVID19Py"
      ],
      "execution_count": 6,
      "outputs": []
    },
    {
      "cell_type": "code",
      "metadata": {
        "id": "dG5xo4JjvNhd",
        "colab_type": "code",
        "colab": {}
      },
      "source": [
        "import matplotlib.pyplot as plt"
      ],
      "execution_count": 7,
      "outputs": []
    },
    {
      "cell_type": "code",
      "metadata": {
        "id": "oqu4ak-vve4M",
        "colab_type": "code",
        "colab": {
          "base_uri": "https://localhost:8080/",
          "height": 70
        },
        "outputId": "e77723db-0cc0-45d4-e7ba-8f7d4098f4d0"
      },
      "source": [
        "covid19 = COVID19Py.COVID19()\n",
        "data = covid19.getAll(timelines=True)\n",
        "details=dict(data['latest'])\n",
        "print(details)\n",
        "names = list(details.keys())\n",
        "values = list(details.values())\n",
        "print(names)\n",
        "print(values)"
      ],
      "execution_count": 12,
      "outputs": [
        {
          "output_type": "stream",
          "text": [
            "{'confirmed': 10869739, 'deaths': 521298, 'recovered': 0}\n",
            "['confirmed', 'deaths', 'recovered']\n",
            "[10869739, 521298, 0]\n"
          ],
          "name": "stdout"
        }
      ]
    },
    {
      "cell_type": "code",
      "metadata": {
        "id": "SLqPmZ9QviZ9",
        "colab_type": "code",
        "colab": {
          "base_uri": "https://localhost:8080/",
          "height": 276
        },
        "outputId": "94ce0a21-7ea3-49b1-b0e6-44e8db562438"
      },
      "source": [
        "plt.bar(range(len(details)),values,tick_label = names)\n",
        "plt.show()"
      ],
      "execution_count": 13,
      "outputs": [
        {
          "output_type": "display_data",
          "data": {
            "image/png": "[encoded data removed]",
            "text/plain": [
              "<Figure size 432x288 with 1 Axes>"
            ]
          },
          "metadata": {
            "tags": [],
            "needs_background": "light"
          }
        }
      ]
    },
    {
      "cell_type": "code",
      "metadata": {
        "id": "NRSWJ7u57Ed8",
        "colab_type": "code",
        "colab": {}
      },
      "source": [
        ""
      ],
      "execution_count": null,
      "outputs": []
    }
  ]
}